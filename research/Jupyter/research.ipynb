{
 "cells": [
  {
   "cell_type": "code",
   "execution_count": 24,
   "id": "96960028",
   "metadata": {},
   "outputs": [],
   "source": [
    "import datetime\n",
    "import pymongo\n",
    "import random\n",
    "import uuid\n",
    "from pymongo import MongoClient"
   ]
  },
  {
   "cell_type": "code",
   "execution_count": 25,
   "id": "f764cd75",
   "metadata": {},
   "outputs": [],
   "source": [
    "N_BOOKMARKS = 5 # number of bookmarks"
   ]
  },
  {
   "cell_type": "code",
   "execution_count": 26,
   "id": "c040c29d",
   "metadata": {},
   "outputs": [],
   "source": [
    "client = MongoClient('mongodb', 27017)"
   ]
  },
  {
   "cell_type": "code",
   "execution_count": 27,
   "id": "4711b3aa",
   "metadata": {},
   "outputs": [],
   "source": [
    "# Getting a Database\n",
    "db = client.research_db"
   ]
  },
  {
   "cell_type": "code",
   "execution_count": 28,
   "id": "d76a350c",
   "metadata": {},
   "outputs": [],
   "source": [
    "# List of bookmarks\n",
    "# Scheme:\n",
    "# document = \n",
    "# {user_id: \n",
    "#     [movie_id_1, movie_id_2]\n",
    "# }\n",
    "bookmarks = db.bookmarks"
   ]
  },
  {
   "cell_type": "code",
   "execution_count": 29,
   "id": "4781cf8c",
   "metadata": {},
   "outputs": [],
   "source": [
    "# Loading data\n",
    "\n",
    "for i in range(N_BOOKMARKS):\n",
    "    user_id = str(uuid.uuid4())\n",
    "    movie_id = str(uuid.uuid4())\n",
    "    bookmarks.insert_one(\n",
    "        {\"id\": i,\n",
    "         \"user_id\": user_id,\n",
    "         \"movie_id\": [movie_id]\n",
    "        }\n",
    "    )\n"
   ]
  },
  {
   "cell_type": "code",
   "execution_count": 30,
   "id": "910f3f5c",
   "metadata": {},
   "outputs": [
    {
     "name": "stdout",
     "output_type": "stream",
     "text": [
      "0:00:00.009678\n"
     ]
    }
   ],
   "source": [
    "# Reading data\n",
    "start = datetime.datetime.now()\n",
    "for i in range(N_BOOKMARKS):\n",
    "    id = random.randint(0, 15000)\n",
    "    bookmarks.find_one({\"id\": id})\n",
    "end = datetime.datetime.now()\n",
    "print(end-start)"
   ]
  },
  {
   "cell_type": "code",
   "execution_count": null,
   "id": "07b7dda4",
   "metadata": {},
   "outputs": [],
   "source": [
    "# Likes - like is a score\n",
    "# Scheme:\n",
    "# documents = \n",
    "# [{movie_id, user_id, score}]\n"
   ]
  }
 ],
 "metadata": {
  "kernelspec": {
   "display_name": "Python 3",
   "language": "python",
   "name": "python3"
  },
  "language_info": {
   "codemirror_mode": {
    "name": "ipython",
    "version": 3
   },
   "file_extension": ".py",
   "mimetype": "text/x-python",
   "name": "python",
   "nbconvert_exporter": "python",
   "pygments_lexer": "ipython3",
   "version": "3.6.9"
  }
 },
 "nbformat": 4,
 "nbformat_minor": 5
}
