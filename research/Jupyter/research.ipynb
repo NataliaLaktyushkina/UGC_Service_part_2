{
 "cells": [
  {
   "cell_type": "code",
   "execution_count": 68,
   "id": "96960028",
   "metadata": {},
   "outputs": [],
   "source": [
    "import datetime\n",
    "import pymongo\n",
    "import random\n",
    "import uuid\n",
    "from pymongo import MongoClient"
   ]
  },
  {
   "cell_type": "code",
   "execution_count": 69,
   "id": "f764cd75",
   "metadata": {},
   "outputs": [],
   "source": [
    "N_BOOKMARKS = 15000 # number of bookmarks\n",
    "N_MOVIES_LIKES = 15000 "
   ]
  },
  {
   "cell_type": "code",
   "execution_count": 70,
   "id": "c040c29d",
   "metadata": {},
   "outputs": [],
   "source": [
    "client = MongoClient('mongodb', 27017)"
   ]
  },
  {
   "cell_type": "code",
   "execution_count": 71,
   "id": "4711b3aa",
   "metadata": {},
   "outputs": [],
   "source": [
    "# Getting a Database\n",
    "db = client.research_db"
   ]
  },
  {
   "cell_type": "code",
   "execution_count": 72,
   "id": "d76a350c",
   "metadata": {},
   "outputs": [],
   "source": [
    "# List of bookmarks\n",
    "# Scheme:\n",
    "# document = \n",
    "# {user_id: \n",
    "#     [movie_id_1, movie_id_2]\n",
    "# }\n",
    "bookmarks = db.bookmarks"
   ]
  },
  {
   "cell_type": "code",
   "execution_count": 73,
   "id": "4781cf8c",
   "metadata": {},
   "outputs": [],
   "source": [
    "# Loading data\n",
    "\n",
    "for i in range(N_BOOKMARKS):\n",
    "    user_id = str(uuid.uuid4())\n",
    "    movie_id = str(uuid.uuid4())\n",
    "    bookmarks.insert_one(\n",
    "        {\"id\": i,\n",
    "         \"user_id\": user_id,\n",
    "         \"movie_id\": [movie_id]\n",
    "        }\n",
    "    )\n"
   ]
  },
  {
   "cell_type": "code",
   "execution_count": 74,
   "id": "910f3f5c",
   "metadata": {},
   "outputs": [
    {
     "name": "stdout",
     "output_type": "stream",
     "text": [
      "0:01:00.668124\n"
     ]
    }
   ],
   "source": [
    "# Reading data\n",
    "start = datetime.datetime.now()\n",
    "for i in range(N_BOOKMARKS):\n",
    "    id = random.randint(0, 15000)\n",
    "    bookmarks.find_one({\"id\": id})\n",
    "end = datetime.datetime.now()\n",
    "print(end-start)"
   ]
  },
  {
   "cell_type": "code",
   "execution_count": 75,
   "id": "3edfddea",
   "metadata": {},
   "outputs": [],
   "source": [
    "# Likes - like is a score\n",
    "# Scheme:\n",
    "# documents = \n",
    "# [{movie_id, user_id, score}]\n",
    "likes = db.likes"
   ]
  },
  {
   "cell_type": "code",
   "execution_count": 76,
   "id": "950c64f7",
   "metadata": {},
   "outputs": [],
   "source": [
    "# Loading data\n",
    "\n",
    "for i in range(N_MOVIES_LIKES):\n",
    "    user_id = str(uuid.uuid4())\n",
    "    movie_id = random.randint(0,N_MOVIES_LIKES)\n",
    "    score = random.randint(0,10)\n",
    "    likes.insert_one(\n",
    "          {\"movie_id\": movie_id,\n",
    "           \"user_id\": user_id,\n",
    "           \"score\": score\n",
    "          }\n",
    "    )"
   ]
  },
  {
   "cell_type": "code",
   "execution_count": 77,
   "id": "70bbd3f4",
   "metadata": {},
   "outputs": [
    {
     "name": "stdout",
     "output_type": "stream",
     "text": [
      "0:06:14.844879\n"
     ]
    }
   ],
   "source": [
    "# Reading data\n",
    "start = datetime.datetime.now()\n",
    "for i in range(N_MOVIES_LIKES):\n",
    "    movie_id = random.randint(0,N_MOVIES_LIKES)\n",
    "    pipeline = [{\"$match\":\n",
    "                    {\"movie_id\": movie_id},  \n",
    "                },\n",
    "                {\"$group\":\n",
    "                    {\n",
    "                        \"_id\": \"$movie_id\",\n",
    "                        \"avgscore\": {\"$avg\": \"$score\"},\n",
    "                    },\n",
    "                },\n",
    "                ]\n",
    "    for doc in likes.aggregate(pipeline):\n",
    "        rating = doc[\"avgscore\"]\n",
    "end = datetime.datetime.now()\n",
    "print(end-start)"
   ]
  },
  {
   "cell_type": "code",
   "execution_count": 83,
   "id": "6e62c86a",
   "metadata": {},
   "outputs": [
    {
     "name": "stdout",
     "output_type": "stream",
     "text": [
      "0:00:00.033729\n",
      "33729\n",
      "0:00:00.026347\n",
      "26347\n",
      "0:00:00.027767\n",
      "27767\n",
      "0:00:00.023854\n",
      "23854\n",
      "0:00:00.027181\n",
      "27181\n",
      "0:00:00.026651\n",
      "26651\n",
      "0:00:00.026431\n",
      "26431\n",
      "0:00:00.027377\n",
      "27377\n",
      "0:00:00.027701\n",
      "27701\n",
      "0:00:00.027832\n",
      "27832\n",
      "27487.0\n"
     ]
    }
   ],
   "source": [
    "#Real-time\n",
    "# Load data\n",
    "deltas = []\n",
    "pipeline = [{\"$match\":\n",
    "                    {\"movie_id\": movie_id},  \n",
    "                },\n",
    "                {\"$group\":\n",
    "                    {\n",
    "                        \"_id\": \"$movie_id\",\n",
    "                        \"avgscore\": {\"$avg\": \"$score\"},\n",
    "                    },\n",
    "                },\n",
    "                ]\n",
    "for i in range(10):\n",
    "    #Load data\n",
    "    user_id = str(uuid.uuid4())\n",
    "    movie_id =  str(uuid.uuid4())\n",
    "    score = random.randint(0,10)\n",
    "    likes.insert_one(\n",
    "              {\"movie_id\": movie_id,\n",
    "               \"user_id\": user_id,\n",
    "               \"score\": score\n",
    "              }\n",
    "        )\n",
    "    \n",
    "    # Read data \n",
    "    start = datetime.datetime.now()    \n",
    "    for doc in likes.aggregate(pipeline):\n",
    "        rating = doc[\"avgscore\"]\n",
    "    end = datetime.datetime.now()\n",
    "    diff = end-start\n",
    "    print(end-start)\n",
    "    print(diff.microseconds)\n",
    "    deltas.append(diff.microseconds)\n",
    "print(sum(deltas)/10)"
   ]
  },
  {
   "cell_type": "code",
   "execution_count": null,
   "id": "57e9e968",
   "metadata": {},
   "outputs": [],
   "source": []
  }
 ],
 "metadata": {
  "kernelspec": {
   "display_name": "Python 3",
   "language": "python",
   "name": "python3"
  },
  "language_info": {
   "codemirror_mode": {
    "name": "ipython",
    "version": 3
   },
   "file_extension": ".py",
   "mimetype": "text/x-python",
   "name": "python",
   "nbconvert_exporter": "python",
   "pygments_lexer": "ipython3",
   "version": "3.6.9"
  }
 },
 "nbformat": 4,
 "nbformat_minor": 5
}
